{
  "nbformat": 4,
  "nbformat_minor": 0,
  "metadata": {
    "colab": {
      "provenance": [],
      "authorship_tag": "ABX9TyPXVqJJ210XVZek1GlGHWqi",
      "include_colab_link": true
    },
    "kernelspec": {
      "name": "python3",
      "display_name": "Python 3"
    },
    "language_info": {
      "name": "python"
    }
  },
  "cells": [
    {
      "cell_type": "markdown",
      "metadata": {
        "id": "view-in-github",
        "colab_type": "text"
      },
      "source": [
        "<a href=\"https://colab.research.google.com/github/Naman09746/ML-practise/blob/main/numpy_practise.ipynb\" target=\"_parent\"><img src=\"https://colab.research.google.com/assets/colab-badge.svg\" alt=\"Open In Colab\"/></a>"
      ]
    },
    {
      "cell_type": "code",
      "execution_count": 1,
      "metadata": {
        "colab": {
          "base_uri": "https://localhost:8080/"
        },
        "id": "ajK9kikm4S44",
        "outputId": "2c5b0792-652d-4101-e5b1-47c73000ed16"
      },
      "outputs": [
        {
          "output_type": "stream",
          "name": "stdout",
          "text": [
            "1D Array: [1 2 3 4 5 6 7 8 9]\n"
          ]
        }
      ],
      "source": [
        "import numpy as np\n",
        "\n",
        "# Create a 1D NumPy array\n",
        "array_1d = np.arange(1, 10)\n",
        "print(\"1D Array:\", array_1d)"
      ]
    },
    {
      "cell_type": "code",
      "source": [
        "# Retrieve the 4th element of the array (index 3)\n",
        "fourth_element = array_1d[3]\n",
        "print(\"4th Element:\", fourth_element)\n",
        "\n",
        "# Retrieve the last element of the array\n",
        "last_element = array_1d[-1]\n",
        "print(\"Last Element:\", last_element)"
      ],
      "metadata": {
        "colab": {
          "base_uri": "https://localhost:8080/"
        },
        "id": "lWl0ghzq4eLt",
        "outputId": "2409663f-386b-4ce0-a830-7f09b442bf7f"
      },
      "execution_count": 11,
      "outputs": [
        {
          "output_type": "stream",
          "name": "stdout",
          "text": [
            "4th Element: 4\n",
            "Last Element: 9\n"
          ]
        }
      ]
    },
    {
      "cell_type": "code",
      "source": [
        "# Slice the array to get the first 4 elements\n",
        "first_5_elements = array_1d[:5]\n",
        "print(\"First 5 Elements:\", first_5_elements)\n",
        "\n",
        "# Slice the array to get every other element\n",
        "every_other_element = array_1d[::2]\n",
        "print(\"Every Other Element:\", every_other_element)\n",
        "\n",
        "# Slice the array to get the last 5 elements\n",
        "last_5_elements = array_1d[-5:]\n",
        "print(\"Last 5 Elements:\", last_5_elements)"
      ],
      "metadata": {
        "colab": {
          "base_uri": "https://localhost:8080/"
        },
        "id": "bS8cXpLv4rPo",
        "outputId": "d59210a0-1759-46ba-92f6-6296c15791bd"
      },
      "execution_count": 12,
      "outputs": [
        {
          "output_type": "stream",
          "name": "stdout",
          "text": [
            "First 5 Elements: [1 2 3 4 5]\n",
            "Every Other Element: [1 3 5 7 9]\n",
            "Last 5 Elements: [5 6 7 8 9]\n"
          ]
        }
      ]
    },
    {
      "cell_type": "markdown",
      "source": [
        "# **Excercise-2**"
      ],
      "metadata": {
        "id": "WHgvS6tV5ByT"
      }
    },
    {
      "cell_type": "code",
      "source": [
        "# Create a 2D NumPy array\n",
        "array_2d = np.arange(1, 17).reshape(4, 4)\n",
        "print(\"2D Array:\\n\", array_2d)"
      ],
      "metadata": {
        "colab": {
          "base_uri": "https://localhost:8080/"
        },
        "id": "XK6daeWh4_9Y",
        "outputId": "b363d496-39fe-4d09-c1d4-e0797734f833"
      },
      "execution_count": 8,
      "outputs": [
        {
          "output_type": "stream",
          "name": "stdout",
          "text": [
            "2D Array:\n",
            " [[ 1  2  3  4]\n",
            " [ 5  6  7  8]\n",
            " [ 9 10 11 12]\n",
            " [13 14 15 16]]\n"
          ]
        }
      ]
    },
    {
      "cell_type": "code",
      "source": [
        "# Retrieve the element at row 2, column 3 (indexing starts from 0)\n",
        "element_2d = array_2d[1, 2]\n",
        "print(\"Element at (2, 3):\", element_2d)\n",
        "\n",
        "# Retrieve the last element of the array\n",
        "last_element_2d = array_2d[-1, -1]\n",
        "print(\"Last Element:\", last_element_2d)"
      ],
      "metadata": {
        "colab": {
          "base_uri": "https://localhost:8080/"
        },
        "id": "7ZIoqgbi5SA0",
        "outputId": "6dfbc960-81f8-49a0-881d-a1cb3e697bd1"
      },
      "execution_count": 14,
      "outputs": [
        {
          "output_type": "stream",
          "name": "stdout",
          "text": [
            "Element at (2, 3): 7\n",
            "Last Element: 16\n"
          ]
        }
      ]
    },
    {
      "cell_type": "code",
      "source": [
        "# Slice the array to get the first two rows\n",
        "first_two_rows = array_2d[:2, :]\n",
        "print(\"First Two Rows:\\n\", first_two_rows)\n",
        "\n",
        "# Slice the array to get the last two columns\n",
        "last_two_columns = array_2d[:, -2:]\n",
        "print(\"Last Two Columns:\\n\", last_two_columns)\n",
        "\n",
        "# Slice the array to get the sub-array from row 2 to 4 and column 1 to 3\n",
        "sub_array_2d = array_2d[1:4, 1:4]\n",
        "print(\"Sub-array from (2:5, 2:4):\\n\", sub_array_2d)\n"
      ],
      "metadata": {
        "colab": {
          "base_uri": "https://localhost:8080/"
        },
        "id": "nnk6djEv5X_I",
        "outputId": "5fcb7b2e-2d79-4c2c-9c98-33377fd930d9"
      },
      "execution_count": 15,
      "outputs": [
        {
          "output_type": "stream",
          "name": "stdout",
          "text": [
            "First Two Rows:\n",
            " [[1 2 3 4]\n",
            " [5 6 7 8]]\n",
            "Last Two Columns:\n",
            " [[ 3  4]\n",
            " [ 7  8]\n",
            " [11 12]\n",
            " [15 16]]\n",
            "Sub-array from (2:5, 2:4):\n",
            " [[ 6  7  8]\n",
            " [10 11 12]\n",
            " [14 15 16]]\n"
          ]
        }
      ]
    },
    {
      "cell_type": "markdown",
      "source": [
        "# **Exercise 3: 3D Arrays**"
      ],
      "metadata": {
        "id": "Zzo5bjpu5wCm"
      }
    },
    {
      "cell_type": "code",
      "source": [
        "# Create a 3D NumPy array\n",
        "array_3d = np.arange(1, 28).reshape(3, 3, 3)\n",
        "print(\"3D Array:\\n\", array_3d)\n"
      ],
      "metadata": {
        "colab": {
          "base_uri": "https://localhost:8080/"
        },
        "id": "H8_gVM8x5vEN",
        "outputId": "60bc5e47-1477-49ed-8e17-2caf445e6d65"
      },
      "execution_count": 16,
      "outputs": [
        {
          "output_type": "stream",
          "name": "stdout",
          "text": [
            "3D Array:\n",
            " [[[ 1  2  3]\n",
            "  [ 4  5  6]\n",
            "  [ 7  8  9]]\n",
            "\n",
            " [[10 11 12]\n",
            "  [13 14 15]\n",
            "  [16 17 18]]\n",
            "\n",
            " [[19 20 21]\n",
            "  [22 23 24]\n",
            "  [25 26 27]]]\n"
          ]
        }
      ]
    },
    {
      "cell_type": "code",
      "source": [
        "# Retrieve the element at index (1, 1, 1)\n",
        "element_3d = array_3d[1, 1, 1]\n",
        "print(\"Element at (1, 1, 1):\", element_3d)\n",
        "\n",
        "# Retrieve the last element of the array\n",
        "last_element_3d = array_3d[-1, -1, -1]\n",
        "print(\"Last Element:\", last_element_3d)\n"
      ],
      "metadata": {
        "colab": {
          "base_uri": "https://localhost:8080/"
        },
        "id": "Xf8QSvYp542a",
        "outputId": "1e64dd0e-6d20-483d-afd5-51fb5a3ce3d8"
      },
      "execution_count": 17,
      "outputs": [
        {
          "output_type": "stream",
          "name": "stdout",
          "text": [
            "Element at (1, 1, 1): 14\n",
            "Last Element: 27\n"
          ]
        }
      ]
    },
    {
      "cell_type": "code",
      "source": [
        "# Slice the array to get the first two 2D arrays\n",
        "first_two_2d_arrays = array_3d[:2, :, :]\n",
        "print(\"First Two 2D Arrays:\\n\", first_two_2d_arrays)\n",
        "\n",
        "# Slice the array to get the last 2 elements of the last 2D array\n",
        "last_two_elements_last_2d = array_3d[-1, -2:, :]\n",
        "print(\"Last 2 Elements of Last 2D Array:\\n\", last_two_elements_last_2d)\n",
        "\n",
        "# Slice the array to get a sub-array of shape (2, 2, 2) from the original array\n",
        "sub_array_3d = array_3d[:2, :2, :2]\n",
        "print(\"Sub-array (2, 2, 2):\\n\", sub_array_3d)\n"
      ],
      "metadata": {
        "colab": {
          "base_uri": "https://localhost:8080/"
        },
        "id": "pXBf1RtE58D-",
        "outputId": "4a33b6f4-eed6-4f22-ab14-d58c88c160b7"
      },
      "execution_count": 18,
      "outputs": [
        {
          "output_type": "stream",
          "name": "stdout",
          "text": [
            "First Two 2D Arrays:\n",
            " [[[ 1  2  3]\n",
            "  [ 4  5  6]\n",
            "  [ 7  8  9]]\n",
            "\n",
            " [[10 11 12]\n",
            "  [13 14 15]\n",
            "  [16 17 18]]]\n",
            "Last 2 Elements of Last 2D Array:\n",
            " [[22 23 24]\n",
            " [25 26 27]]\n",
            "Sub-array (2, 2, 2):\n",
            " [[[ 1  2]\n",
            "  [ 4  5]]\n",
            "\n",
            " [[10 11]\n",
            "  [13 14]]]\n"
          ]
        }
      ]
    },
    {
      "cell_type": "markdown",
      "source": [
        "# **Additional Exercises**"
      ],
      "metadata": {
        "id": "uI_78Ejn6Ax7"
      }
    },
    {
      "cell_type": "code",
      "source": [
        "# Create a 1D NumPy array of the first 15 positive integers\n",
        "array_1d_extra = np.arange(1, 16)\n",
        "\n",
        "# Use boolean indexing to retrieve all elements that are multiples of 3\n",
        "multiples_of_3 = array_1d_extra[array_1d_extra % 3 == 0]\n",
        "print(\"Multiples of 3:\", multiples_of_3)\n"
      ],
      "metadata": {
        "colab": {
          "base_uri": "https://localhost:8080/"
        },
        "id": "ohFadj9v59m0",
        "outputId": "52219a7e-9a44-43dd-e951-f4044a3868df"
      },
      "execution_count": 19,
      "outputs": [
        {
          "output_type": "stream",
          "name": "stdout",
          "text": [
            "Multiples of 3: [ 3  6  9 12 15]\n"
          ]
        }
      ]
    },
    {
      "cell_type": "code",
      "source": [
        "# Create a 2D NumPy array of shape (4, 5) with values from 1 to 20\n",
        "array_2d_extra = np.arange(1, 21).reshape(4, 5)\n",
        "\n",
        "# Retrieve the first column\n",
        "first_column = array_2d_extra[:, 0]\n",
        "print(\"First Column:\", first_column)\n",
        "\n",
        "# Retrieve the first row and last column\n",
        "first_row_last_column = array_2d_extra[0, -1]\n",
        "print(\"First Row, Last Column:\", first_row_last_column)\n",
        "\n",
        "# Retrieve the sub-array consisting of the first two rows and the last three columns\n",
        "sub_array_2d_extra = array_2d_extra[:2, -3:]\n",
        "print(\"Sub-array (First 2 Rows, Last 3 Columns):\\n\", sub_array_2d_extra)\n"
      ],
      "metadata": {
        "colab": {
          "base_uri": "https://localhost:8080/"
        },
        "id": "7WGos44e6FeM",
        "outputId": "ae3abe3a-a034-40d7-9abe-b59c898f752f"
      },
      "execution_count": 20,
      "outputs": [
        {
          "output_type": "stream",
          "name": "stdout",
          "text": [
            "First Column: [ 1  6 11 16]\n",
            "First Row, Last Column: 5\n",
            "Sub-array (First 2 Rows, Last 3 Columns):\n",
            " [[ 3  4  5]\n",
            " [ 8  9 10]]\n"
          ]
        }
      ]
    },
    {
      "cell_type": "markdown",
      "source": [
        "# **Additional Challenges**"
      ],
      "metadata": {
        "id": "ZEqBrejh6IuA"
      }
    },
    {
      "cell_type": "code",
      "source": [
        "# Create a 1D array of 27 elements\n",
        "array_1d_challenge = np.arange(1, 28)\n",
        "\n",
        "# Reshape it into a 3D array of shape (3, 3, 3)\n",
        "array_3d_challenge = array_1d_challenge.reshape(3, 3, 3)\n",
        "\n",
        "# Slice to retrieve the first 2D array\n",
        "first_2d_array = array_3d_challenge[0]\n",
        "print(\"First 2D Array:\\n\", first_2d_array)\n",
        "\n",
        "# Slice to retrieve the last row of the last 2D array\n",
        "last_row_last_2d = array_3d_challenge[-1, -1, :]\n",
        "print(\"Last Row of the Last 2D Array:\", last_row_last_2d)\n"
      ],
      "metadata": {
        "colab": {
          "base_uri": "https://localhost:8080/"
        },
        "id": "4n7IfRu86Ml9",
        "outputId": "0924be4a-8044-4785-8c11-529c291972a6"
      },
      "execution_count": 22,
      "outputs": [
        {
          "output_type": "stream",
          "name": "stdout",
          "text": [
            "First 2D Array:\n",
            " [[1 2 3]\n",
            " [4 5 6]\n",
            " [7 8 9]]\n",
            "Last Row of the Last 2D Array: [25 26 27]\n"
          ]
        }
      ]
    },
    {
      "cell_type": "code",
      "source": [
        "# Create a 2D array of shape (6, 6) with values from 1 to 36\n",
        "array_2d_challenge = np.arange(1, 37).reshape(6, 6)\n",
        "\n",
        "# Use boolean indexing to replace all even numbers with -1\n",
        "array_2d_challenge[array_2d_challenge % 2 == 0] = -1\n",
        "print(\"Array with Even Numbers Replaced:\\n\", array_2d_challenge)\n"
      ],
      "metadata": {
        "colab": {
          "base_uri": "https://localhost:8080/"
        },
        "id": "MYv_nBxB6Poc",
        "outputId": "ed9ba843-5a01-447d-846e-2b7bef609142"
      },
      "execution_count": 21,
      "outputs": [
        {
          "output_type": "stream",
          "name": "stdout",
          "text": [
            "Array with Even Numbers Replaced:\n",
            " [[ 1 -1  3 -1  5 -1]\n",
            " [ 7 -1  9 -1 11 -1]\n",
            " [13 -1 15 -1 17 -1]\n",
            " [19 -1 21 -1 23 -1]\n",
            " [25 -1 27 -1 29 -1]\n",
            " [31 -1 33 -1 35 -1]]\n"
          ]
        }
      ]
    },
    {
      "cell_type": "code",
      "source": [
        "# Create a 2D array of shape (5, 5) with random integers between 10 and 50\n",
        "array_2d_random = np.random.randint(10, 51, size=(5, 5))\n",
        "print(\"Original 2D Array:\\n\", array_2d_random)\n",
        "\n",
        "# Slice to get a sub-array of shape (3, 3) from the center\n",
        "center_sub_array = array_2d_random[1:4, 1:4]\n",
        "print(\"Center Sub-array (3, 3):\\n\", center_sub_array)\n",
        "\n",
        "# Subtract 10 from each element of this sub-array\n",
        "center_sub_array -= 10\n",
        "print(\"Modified Sub-array (3, 3):\\n\", center_sub_array)\n"
      ],
      "metadata": {
        "colab": {
          "base_uri": "https://localhost:8080/"
        },
        "id": "Vqka8mpb6TSE",
        "outputId": "dba4a986-8064-49c6-c5c8-19fbf72bec52"
      },
      "execution_count": 23,
      "outputs": [
        {
          "output_type": "stream",
          "name": "stdout",
          "text": [
            "Original 2D Array:\n",
            " [[22 44 42 21 39]\n",
            " [17 43 23 20 30]\n",
            " [12 11 31 46 40]\n",
            " [46 47 42 37 23]\n",
            " [49 43 46 50 34]]\n",
            "Center Sub-array (3, 3):\n",
            " [[43 23 20]\n",
            " [11 31 46]\n",
            " [47 42 37]]\n",
            "Modified Sub-array (3, 3):\n",
            " [[33 13 10]\n",
            " [ 1 21 36]\n",
            " [37 32 27]]\n"
          ]
        }
      ]
    }
  ]
}